{
 "cells": [
  {
   "cell_type": "code",
   "execution_count": null,
   "id": "061adc45-8096-459c-b1c7-fc2531c40f4b",
   "metadata": {},
   "outputs": [],
   "source": [
    "import subprocess\n",
    "import pandas as pd\n",
    "import json\n",
    "import uuid"
   ]
  },
  {
   "cell_type": "code",
   "execution_count": null,
   "id": "3f488cd9-66b0-4694-9021-5090c2c154da",
   "metadata": {},
   "outputs": [],
   "source": [
    "#define variables\n",
    "recipes = pd.read_excel(r'') #Enter the path to your 01_Input_Recipes File\n",
    "ingredients = pd.read_excel(r'') #Enter the path to your 02_Input_LU_Ingredient File\n",
    "sorter_file = pd.read_excel(r'') #Enter the path to your 03_Input_LU_Sort File\n",
    "bearer = '' # Enter your bearer here\n",
    "project_id = '' # Enter your project_id here"
   ]
  },
  {
   "cell_type": "code",
   "execution_count": null,
   "id": "d51edd59-4eca-4400-8f31-66ffe92edf0a",
   "metadata": {},
   "outputs": [],
   "source": [
    "# Define functions\n",
    "def format_amount(value):\n",
    "    if value % 1 == 0:  \n",
    "        return str(int(value))\n",
    "    else:\n",
    "        return f\"{value:.1f}\" "
   ]
  },
  {
   "cell_type": "code",
   "execution_count": null,
   "id": "6bc525d8-5364-47ca-91e3-85a1421e3d53",
   "metadata": {},
   "outputs": [],
   "source": [
    "#Get Shopping list items\n",
    "recipes_chosen = recipes.dropna(subset=['Portions'])\n",
    "ingredients_chosen = pd.merge(ingredients,recipes_chosen,on=['ID'])\n",
    "ingredients_chosen['Adjusted_Amount'] = ingredients_chosen['Amount'] * ingredients_chosen['Portions'] / ingredients_chosen['For_portions']\n",
    "shoppinglist = ingredients_chosen.groupby(['Ingredient', 'Unit'])['Adjusted_Amount'].sum().reset_index()\n",
    "\n",
    "# Apply format_amount to Adjusted_Amount\n",
    "shoppinglist['Adjusted_Amount'] = shoppinglist['Adjusted_Amount'].apply(format_amount)\n",
    "\n",
    "# Concatenate 'Ingredient', 'Adjusted_Amount' und 'Unit'\n",
    "shoppinglist['Content'] = shoppinglist['Ingredient'] + ' - ' + shoppinglist['Adjusted_Amount'] + ' ' + shoppinglist['Unit']\n",
    "\n",
    "# Sort in the correct order\n",
    "sorted_shoppinglist = pd.merge(shoppinglist,sorter_file,on=['Ingredient'])\n",
    "sorted_shoppinglist = sorted_shoppinglist.sort_values(by=['sort_number', 'Ingredient'], ascending=[True, True])\n",
    "\n",
    "# Show only column 'Content'\n",
    "sorted_shoppinglist = sorted_shoppinglist[['Content']]"
   ]
  },
  {
   "cell_type": "code",
   "execution_count": null,
   "id": "108d02de-d0a5-46e5-bbdb-2462a99bf03c",
   "metadata": {},
   "outputs": [],
   "source": [
    "get_sync_call = r'curl https://api.todoist.com/sync/v9/sync -H \"Authorization: Bearer '+bearer+r'\" -d \"sync_token=*\" -d \"resource_types=[\\\"items\\\", \\\"projects\\\"]\"'\n",
    "sync_response = subprocess.run(get_sync_call, capture_output=True, text=True, shell=True)\n",
    "data = json.loads(sync_response.stdout)\n",
    "sync_token = data.get(\"sync_token\", None)"
   ]
  },
  {
   "cell_type": "code",
   "execution_count": null,
   "id": "8502fd44-cc97-4e05-adfe-7c546bdec4a0",
   "metadata": {},
   "outputs": [],
   "source": [
    "for i,r in sorted_shoppinglist.iterrows():\n",
    "    temp_id = str(uuid.uuid4())\n",
    "    uu_id = str(uuid.uuid4())\n",
    "    put_item_call = r'curl https://api.todoist.com/sync/v9/sync ^ -H \"Authorization: Bearer '+bearer+r'\"  -d \"sync_token='+sync_token+r'\"  -d \"resource_types=[\\\"projects\\\", \\\"items\\\"]\"  -d \"commands=[{\\\"type\\\": \\\"item_add\\\", \\\"temp_id\\\": \\\"'+temp_id+r'\\\", \\\"uuid\\\": \\\"'+uu_id+r'\\\", \\\"args\\\": {\\\"project_id\\\": \\\"'+project_id+r'\\\", \\\"content\\\": \\\"'+r['Content']+r'\\\"}}]\"'\n",
    "    subprocess.run(put_item_call, capture_output=False, text=True, shell=True)\n",
    "    print(r['Content'])"
   ]
  }
 ],
 "metadata": {
  "kernelspec": {
   "display_name": "Python 3 (ipykernel)",
   "language": "python",
   "name": "python3"
  },
  "language_info": {
   "codemirror_mode": {
    "name": "ipython",
    "version": 3
   },
   "file_extension": ".py",
   "mimetype": "text/x-python",
   "name": "python",
   "nbconvert_exporter": "python",
   "pygments_lexer": "ipython3",
   "version": "3.11.9"
  }
 },
 "nbformat": 4,
 "nbformat_minor": 5
}
